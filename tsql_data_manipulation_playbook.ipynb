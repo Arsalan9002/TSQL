{
    "metadata": {
        "kernelspec": {
            "name": "SQL",
            "display_name": "SQL",
            "language": "sql"
        },
        "language_info": {
            "name": "sql",
            "version": ""
        }
    },
    "nbformat_minor": 2,
    "nbformat": 4,
    "cells": [
        {
            "cell_type": "code",
            "source": [
                "select count(*) from \"tsql-dml\".dbo.Posts"
            ],
            "metadata": {
                "azdata_cell_guid": "8b087dd9-5a01-44e3-a6c1-acd6e976d8f0"
            },
            "outputs": [],
            "execution_count": null
        },
        {
            "cell_type": "code",
            "source": [
                "--WHERE CLAUSE refresher and operators\n",
                "\n",
                "select * from Posts\n",
                "WHERE \n",
                "    score > 30\n",
                "    AND Tags like '%machine-learning%'\n",
                "    AND YEAR(CreationDate) IN (2014,2015,2018)\n",
                "\n",
                "    --carefully see how we extracted the comments from comments table for filtered criteria defined above using Exists\n",
                "    -- Exists() check for the existence of rows\n",
                "    AND Exists(select id from Comments where PostId = Posts.Id)\n",
                "\n",
                "    AND FavoriteCount BETWEEN 40 AND 100"
            ],
            "metadata": {
                "azdata_cell_guid": "1b58fde3-3ad0-4e77-bc84-9c82491d6a14"
            },
            "outputs": [],
            "execution_count": null
        },
        {
            "cell_type": "code",
            "source": [
                "-- insert statement variations\n",
                "\n",
                "-- Specify all column names and their  corresponding values\n",
                "-- values for identity column is not passed because it is aut0-incremented and SQL server automatically increments its value with every insert command\n",
                "\n",
                "\n",
                "-- SET IDENTITY_INSERT USERS ON (run it, if you want to insert identity column value on your own).By default it is OFF\n",
                "INSERT INTO [dbo].[Users] \n",
                "        ([Reputation]\n",
                "        , [CreationDate]\n",
                "        , [DisplayName]\n",
                "        , [LastAccessDate]\n",
                "        , [WebsiteUrl]\n",
                "        , [Location]\n",
                "        , [AboutMe]\n",
                "        , [Views]\n",
                "        , [UpVotes]\n",
                "        , [DownVotes]\n",
                "        , [ProfileImageUrl]\n",
                "        , [AccountId]) \n",
                "    VALUES \n",
                "        (1\n",
                "        , CAST(N'2016-06-22T17:35:14.680' AS DateTime)\n",
                "        , N'xavier-morera'\n",
                "        , CAST(N'2016-06-22T17:35:14.680' AS DateTime)\n",
                "        , N'www.xaviermorera.com'\n",
                "        , N'Costa Rica'\n",
                "        , NULL\n",
                "        , 0\n",
                "        , 0\n",
                "        , 0\n",
                "        , N'http://www.xaviermorera.com/wp-content/uploads/2016/06/xavier-morera-150x150.jpg'\n",
                "        , 17056189)"
            ],
            "metadata": {
                "azdata_cell_guid": "0295f085-2f65-4705-8432-6fa35366e7cf"
            },
            "outputs": [],
            "execution_count": null
        },
        {
            "cell_type": "code",
            "source": [
                "-- provide values for only columns whose value cannot be null & NULL or default value (if set) is automatically set for columns whose value can be null\n",
                "-- In short it is not required to pass values for column which can hold NULL values\n",
                "\n",
                "-- inserting values only for those columns which cannot hold NULL values\n",
                "\n",
                "INSERT INTO [dbo].[Users] \n",
                "        ([Reputation]\n",
                "        , [CreationDate]\n",
                "        , [DisplayName]\n",
                "        , [LastAccessDate]\n",
                "        , [UpVotes]\n",
                "        , [DownVotes]\n",
                "        , [AccountId]) \n",
                "    VALUES \n",
                "        (1\n",
                "        , CAST(N'2016-06-22T17:35:14.680' AS DateTime)\n",
                "        , N'steve-towers'\n",
                "        , CAST(N'2016-06-22T17:35:14.680' AS DateTime)\n",
                "        , 0\n",
                "        , 0\n",
                "        , 17056192)\n",
                "\n",
                ""
            ],
            "metadata": {
                "azdata_cell_guid": "9ce89072-0a1a-46db-95d1-0c2975dc1e9d",
                "tags": []
            },
            "outputs": [],
            "execution_count": null
        },
        {
            "cell_type": "code",
            "source": [
                "-- Bulk Insert\n",
                "\n",
                "BULK INSERT Comments from  '/Users/mac/Desktop/transact-sql/comments.csv' \n",
                "WITH (\n",
                "    FIRSTROW = 2,\n",
                "    FORMAT= 'CSV'\n",
                "\n",
                ")"
            ],
            "metadata": {
                "azdata_cell_guid": "519200c0-a68b-4085-94ab-2f91cd5dbad7"
            },
            "outputs": [],
            "execution_count": null
        },
        {
            "cell_type": "code",
            "source": [
                "--Update statement\n",
                "select * from Users where DisplayName='Xavier'\n",
                "\n",
                "-- UPDATE Users SET    \n",
                "--     UpVotes = 10,\n",
                "--     DownVotes = 5\n",
                "-- where DisplayName='Xavier'\n",
                "\n",
                "\n",
                ""
            ],
            "metadata": {
                "azdata_cell_guid": "4613223f-daec-4a9b-a143-306a566d5238"
            },
            "outputs": [],
            "execution_count": null
        },
        {
            "cell_type": "code",
            "source": [
                "--@@Rowcount is used to obtain the number of rows affected by the update statement\n",
                "\n",
                "declare @rowsAffected int;\n",
                "\n",
                " update Users set Views=1001 where DisplayName like '%Xavier%'\n",
                "\n",
                "set @rowsAffected = @@Rowcount\n",
                "\n",
                "IF @rowsAffected > 0 \n",
                "PRINT CONVERT(VARCHAR,@rowsAffected)+ ' rows are affected after executing update statement'\n",
                "\n",
                "select Id, displayname, views from Users where DisplayName like '%Xavier%'\n",
                ""
            ],
            "metadata": {
                "azdata_cell_guid": "746da0f4-610f-4dcb-a83e-de194224b06f"
            },
            "outputs": [],
            "execution_count": null
        },
        {
            "cell_type": "code",
            "source": [
                "-- updating value based on the data in another table\n",
                "update Posts \n",
                "set posts.Score += Comments.Score *  10\n",
                "from Posts INNER JOIN Comments on (Posts.Id = Comments.PostId)\n",
                "where Posts.PostTypeId=1"
            ],
            "metadata": {
                "azdata_cell_guid": "5a9562a5-3ac0-4e2b-a19b-27ee8f5c5c57"
            },
            "outputs": [],
            "execution_count": null
        },
        {
            "cell_type": "code",
            "source": [
                "--Deleting\n",
                "\n",
                "--based on condition in another table\n",
                "delete FROM Comments\n",
                "FROM COMMENTS JOIN POSTS ON Comments.PostId = Posts.Id\n",
                "WHERE Posts.Score > 0"
            ],
            "metadata": {
                "azdata_cell_guid": "6f39f0c0-4776-46d0-8d69-0fd6c267d222"
            },
            "outputs": [],
            "execution_count": null
        },
        {
            "cell_type": "code",
            "source": [
                "--Deleting\n",
                "--cascade delete\n",
                "\n",
                "--drop table PostsCopy\n",
                "CREATE TABLE PostsCopy (\n",
                "\t\tId INT NOT NULL PRIMARY KEY IDENTITY(1,1),\n",
                "\t\tCreationDate DATETIME NOT NULL DEFAULT GETDATE(),\n",
                "\t\tScore INT NOT NULL DEFAULT 0,\n",
                "\t\tViewCount INT,\n",
                "\t\tTitle VARCHAR(500),\n",
                "\t\tTags VARCHAR(255)\n",
                "\t);"
            ],
            "metadata": {
                "azdata_cell_guid": "ea0ef38e-38ab-459e-8890-452429d351dc"
            },
            "outputs": [],
            "execution_count": null
        },
        {
            "cell_type": "code",
            "source": [
                "--Deleting\n",
                "--cascade delete\n",
                "\n",
                "-- drop table CommentsCopy\n",
                "\tCREATE TABLE CommentsCopy (\n",
                "\t\tId INT NOT NULL PRIMARY KEY IDENTITY(1,1),\n",
                "\t\tUserId INT,\n",
                "\t\tPostId INT NOT NULL,\n",
                "\t\tScore INT NOT NULL DEFAULT 0,\n",
                "\t\tText VARCHAR(MAX) NOT NULL,\n",
                "\t\tCreationDate DATETIME NOT NULL DEFAULT GETDATE(),\n",
                "        -- defined the constraint with delete cascade\n",
                "\t\tCONSTRAINT FK_POSTID_COMMENTSCOPY FOREIGN KEY(PostId) REFERENCES PostsCopy (Id) ON DELETE CASCADE\n",
                "\t);"
            ],
            "metadata": {
                "azdata_cell_guid": "0884cd5d-49fc-4fcb-bdcb-badfc74505f0"
            },
            "outputs": [],
            "execution_count": null
        },
        {
            "cell_type": "code",
            "source": [
                "--Deleting\n",
                "--cascade delete\n",
                "\n",
                "SET IDENTITY_INSERT PostsCopy ON;  \n",
                "GO\n",
                "\n",
                "-- copying the data from actual tables into demo tables. Notice the select instead of values clause that we typically use to write while inserting\n",
                "INSERT PostsCopy (Id,CreationDate,Score,ViewCount,Title,Tags)\n",
                "SELECT Id,CreationDate,Score,ViewCount,Title,Tags FROM Posts;\n",
                "\n",
                "SET IDENTITY_INSERT PostsCopy OFF;  \n",
                "GO\n",
                "\n",
                "INSERT CommentsCopy (UserId, PostId, Score, Text, CreationDate)\n",
                "SELECT UserId, PostId, Score, Text, CreationDate FROM Comments;\n",
                ""
            ],
            "metadata": {
                "azdata_cell_guid": "025b3991-420c-451b-9004-1d5a8f78be00"
            },
            "outputs": [],
            "execution_count": null
        },
        {
            "cell_type": "code",
            "source": [
                "--Deleting\n",
                "--cascade delete\n",
                "\n",
                "--Get the Post with the highest number of Comments\n",
                "SELECT TOP(1) PostId, COUNT(PostId) AS [Number of Comments]\n",
                "FROM [tsql-dml].[dbo].[Comments]\n",
                "GROUP BY PostId\n",
                "ORDER BY COUNT(PostId) DESC\n",
                "\n",
                "SELECT * FROM CommentsCopy WHERE PostId = 30430;\n",
                "select * from PostsCopy WHERE Id = 30430;\n",
                ""
            ],
            "metadata": {
                "azdata_cell_guid": "2692c66b-f38d-4387-9c19-fc112a27a364"
            },
            "outputs": [],
            "execution_count": null
        },
        {
            "cell_type": "code",
            "source": [
                "--Deleting\n",
                "--cascade delete\n",
                "\n",
                "DELETE PostsCopy WHERE PostsCopy.Id = 30430;\n",
                "\n",
                "-- after executing this go and run above statement you wont  find any results in CommentsCopy table "
            ],
            "metadata": {
                "azdata_cell_guid": "3b884d5f-8d35-473f-a0b5-c5dd6d4323f7"
            },
            "outputs": [],
            "execution_count": null
        },
        {
            "cell_type": "code",
            "source": [
                "-- Truncate removes the data from table but the table structure and all constraints are not affected and stay same"
            ],
            "metadata": {
                "azdata_cell_guid": "d5457d66-7d64-4061-94f4-efbec7d56f60"
            },
            "outputs": [],
            "execution_count": null
        },
        {
            "cell_type": "code",
            "source": [
                "--maintaining data integrity\n",
                "\n",
                "--select the id with max no of posts\n",
                "--select OwnerUserId, COUNT(OwnerUserId) as TotalPosts from Posts group by OwnerUserId ORDER BY TotalPosts DESC\n",
                "\n",
                "-- we cannot read the data from a transaction that is currently opened. important for consistency\n",
                "-- OPENING transaction for a long time can affect other queries \n",
                "\n",
                "BEGIN TRANSACTION update_records;  --starting transaction\n",
                "\n",
                "update Posts set \n",
                "    OwnerUserId = 75298,\n",
                "    OwnerDisplayName= 'xavier-morera'\n",
                "\n",
                "where OwnerUserId=836\n",
                "\n",
                "update Comments set \n",
                "    UserId = 75298,\n",
                "    UserDisplayName= 'xavier-morera'\n",
                "\n",
                "where UserId=836\n",
                "\n",
                "COMMIT TRANSACTION; -- ending transaction"
            ],
            "metadata": {
                "azdata_cell_guid": "48549d70-bf23-49aa-aa41-51e787f4fcc6"
            },
            "outputs": [],
            "execution_count": null
        },
        {
            "cell_type": "code",
            "source": [
                "-- QUERYING DATA LOCKED IN TRANSACTION\n",
                "-- USE WITH (NOLOCK) which retrieves the records regardless of locks\n",
                "\n",
                "\n",
                "\n",
                "SELECT * FROM Posts \n",
                "\n",
                "WITH(NOLOCK) --this can be probalamitic and cause DIRTY READ. but it is faster. \n",
                "            --NOLOCK is same as READUNCOMMITTED \n",
                "\n",
                "WHERE OwnerUserId=75298"
            ],
            "metadata": {
                "azdata_cell_guid": "04ea4388-c869-4b43-b23d-e5603f77adb2"
            },
            "outputs": [],
            "execution_count": null
        },
        {
            "cell_type": "code",
            "source": [
                "-- Rollback\n",
                "\n",
                "BEGIN TRANSACTION insert_another_user\n",
                "\n",
                "INSERT INTO Users (DisplayName, Location, AboutMe)  VALUES ('another-tsql-user', 'San Jose, Costa Rica', 'This user will never exist!');\n",
                "\n",
                "select * from Users where DisplayName='another-tsql-user'\n",
                "\n",
                "-- we have not committed this transaction yet so lets roll back this`"
            ],
            "metadata": {
                "azdata_cell_guid": "99328c55-8ce2-4ce3-9a83-18c7dfe9433a"
            },
            "outputs": [],
            "execution_count": null
        },
        {
            "cell_type": "code",
            "source": [
                "-- Rollback continued\n",
                "ROLLBACK TRAN insert_another_user; \n",
                "\n",
                "select * from Users where DisplayName='another-tsql-user'"
            ],
            "metadata": {
                "azdata_cell_guid": "70d269bb-9ab5-4fe4-9d0f-84e751f11217"
            },
            "outputs": [],
            "execution_count": null
        },
        {
            "cell_type": "code",
            "source": [
                "-- partially undoing transaction with save points\n",
                "\n",
                "-- used to rollback a transaction upto a certain point instead of rolling back entire transaction.\n",
                "-- save transaction [name]\n",
                "\n",
                "BEGIN TRAN;\n",
                "\n",
                "DELETE FROM Comments WHERE Comments.Text LIKE '%python%';\n",
                "\n",
                "SAVE TRAN del_python;\n",
                "\n",
                "DELETE FROM Comments WHERE Comments.Text LIKE '%java%';\n",
                "\n",
                "SAVE TRAN del_java;\n",
                "\n",
                "SELECT * FROM Comments WHERE Comments.Text LIKE '%python%' OR Comments.Text LIKE '%java%';"
            ],
            "metadata": {
                "azdata_cell_guid": "ae59df1f-5431-4cc7-9332-7e95b205620c"
            },
            "outputs": [],
            "execution_count": null
        },
        {
            "cell_type": "code",
            "source": [
                "-- partially undoing continued\n",
                "\n",
                "ROLLBACK TRAN del_python;\n",
                "SELECT * FROM Comments WHERE Comments.Text LIKE '%python%' OR Comments.Text LIKE '%java%';\n",
                "\n",
                "COMMIT TRAN;\n",
                "\n",
                "\n",
                "--Note:\n",
                "-- distributed transaction is an operaton on two databases retaining ACID properties\n",
                "-- managed by microsoft distibuted transaction coordinator (MS DTC)"
            ],
            "metadata": {
                "azdata_cell_guid": "6a115ce1-c875-4d80-b89c-5fb98fbe9432"
            },
            "outputs": [],
            "execution_count": null
        },
        {
            "cell_type": "code",
            "source": [
                "-- ADVANCE TSQL TECHNIQUES\n",
                "\n",
                "-- using insert with multiple values\n",
                "\tINSERT INTO [dbo].[Comments]\n",
                "\t\t\t([PostId]\n",
                "\t\t\t,[Score]\n",
                "\t\t\t,[Text]\n",
                "\t\t\t,[CreationDate]\n",
                "\t\t\t,[UserDisplayName]\n",
                "\t\t\t,[UserId])\n",
                "\t\tVALUES\n",
                "\t\t\t(10,0,N'This is one comment',CAST(N'2019-07-22T17:35:14.680' AS DateTime),N'xavier-morera',24),\n",
                "\t\t\t(10,0,N'This is a second comment',CAST(N'2019-07-22T17:35:14.680' AS DateTime),N'xavier-morera',24),\n",
                "\t\t\t(10,0,N'And even a third',CAST(N'2019-07-22T17:35:14.680' AS DateTime),N'xavier-morera',24)"
            ],
            "metadata": {
                "azdata_cell_guid": "6f74ffbf-dd8f-42e7-993e-bd5b02b32589"
            },
            "outputs": [],
            "execution_count": null
        },
        {
            "cell_type": "code",
            "source": [
                "-- ADVANCE TSQL TECHNIQUES continued\n",
                "\n",
                "-- using select with insert\n",
                "CREATE TABLE Employees (\n",
                "\t\tId INT NOT NULL PRIMARY KEY IDENTITY(1,1),\n",
                "\t\tReputation INT NOT NULL DEFAULT 0,\n",
                "\t\tCreationDate DATETIME NOT NULL DEFAULT GETDATE(),\n",
                "\t\tDisplayName VARCHAR(255) NOT NULL,\n",
                "\t\tSalary INT,\n",
                "\t\tJobTitle VARCHAR(255),\n",
                "\t\tBoss INT,\n",
                "\t\tDepartment VARCHAR(255)\n",
                "\t);"
            ],
            "metadata": {
                "azdata_cell_guid": "11b8da02-6487-4a27-8cba-e96ef59da0aa"
            },
            "outputs": [],
            "execution_count": null
        },
        {
            "cell_type": "code",
            "source": [
                "-- ADVANCE TSQL TECHNIQUES continued\n",
                "\n",
                "-- using a select with insert continued\n",
                "\n",
                "SET IDENTITY_INSERT Employees ON\n",
                "\n",
                "--Insert users with a reputation higher than 5000 into the new table employees: \n",
                "\tINSERT INTO Employees (Id, Reputation, CreationDate, DisplayName, Salary)\n",
                "\n",
                "        -- there is not salary column in users so passing scalar value 0 \n",
                "\t\tSELECT Id, Reputation, CreationDate, DisplayName, 0\n",
                "\t\tFROM Users\n",
                "\t\tWHERE Users.Reputation > 5000\n",
                "\n",
                "SET IDENTITY_INSERT Employees OFF\n",
                "\n",
                "SELECT * FROM Employees"
            ],
            "metadata": {
                "azdata_cell_guid": "c8f1a291-ccf0-4cc6-820e-5e3d370845d7"
            },
            "outputs": [],
            "execution_count": null
        },
        {
            "cell_type": "code",
            "source": [
                "-- ADVANCE TSQL TECHNIQUES continued\n",
                "\n",
                "-- using multiple select in insert to populate values form other table\n",
                "\n",
                "INSERT INTO Comments (CreationDate, PostId, Score, Text, UserDisplayName, UserId) \n",
                "\tVALUES (\n",
                "\t\tGETDATE(),\n",
                "\n",
                "        -- using select  in insert values clause\n",
                "\t\t(SELECT Id FROM Posts WHERE Title = 'Parallel and distributed computing'),\n",
                "\n",
                "\t\t0,\n",
                "\t\t'I am the last comment!',\n",
                "\t\t'xavier-morera',\n",
                "\n",
                "        -- using select  in insert values clause\n",
                "\t\t(SELECT Id FROM Users WHERE DisplayName = 'xavier-morera')\n",
                "\n",
                "\t\t);\n",
                "        \n",
                "SELECT * FROM Comments WHERE UserDisplayName = 'xavier-morera' ORDER BY CreationDate DESC;"
            ],
            "metadata": {
                "azdata_cell_guid": "095adc4a-89e4-4c1e-9220-1ac4516c0ab9"
            },
            "outputs": [],
            "execution_count": null
        },
        {
            "cell_type": "code",
            "source": [
                "-- ADVANCE TSQL TECHNIQUES continued\n",
                "-- if we want to know what auto increment id is assign by the database after running current insert command\n",
                "\n",
                "INSERT INTO Posts (PostTypeId, Body, OwnerUserId, OwnerDisplayName, Title)\n",
                "\n",
                "    --print the values inserted\n",
                "\tOUTPUT INSERTED.Id, INSERTED.PostTypeId, inserted.OwnerUserId, inserted.OwnerDisplayName, inserted.Body\n",
                "\n",
                "\tVALUES (1,'This is a Post!',75298,'xavier-morera','This is a Post Title!');"
            ],
            "metadata": {
                "azdata_cell_guid": "806c6e2b-f14a-4aeb-9111-10a504d762c0"
            },
            "outputs": [],
            "execution_count": null
        },
        {
            "cell_type": "code",
            "source": [
                "-- ADVANCE TSQL TECHNIQUES continued\n",
                "\n",
                "--Merge statement used to synchronize tables\n",
                "-- used in a scenario where there is a need to insert, update and delete operations on the target table on conditional basis\n",
                "\n",
                "--source table\n",
                "CREATE TABLE CommentsSource (\n",
                "\t\tId INT NOT NULL PRIMARY KEY,\n",
                "\t\tPostId INT NOT NULL,\n",
                "\t\tScore INT NOT NULL DEFAULT 0,\n",
                "\t\tText VARCHAR(MAX) NOT NULL,\n",
                "\t\tCreationDate DATETIME NOT NULL DEFAULT GETDATE(),\n",
                "\t\tUserDisplayName VARCHAR(255),\n",
                "\t\tUserId INT\n",
                "\t);\n",
                "--target table\n",
                "\tCREATE TABLE CommentsTarget (\n",
                "\t\tId INT NOT NULL PRIMARY KEY,\n",
                "\t\tPostId INT NOT NULL,\n",
                "\t\tScore INT NOT NULL DEFAULT 0,\n",
                "\t\tText VARCHAR(MAX) NOT NULL,\n",
                "\t\tCreationDate DATETIME NOT NULL DEFAULT GETDATE(),\n",
                "\t\tUserDisplayName VARCHAR(255),\n",
                "\t\tUserId INT\n",
                "\t);\n",
                ""
            ],
            "metadata": {
                "azdata_cell_guid": "e0c49a43-b751-4f0e-805c-91d0993d3f9a"
            },
            "outputs": [],
            "execution_count": null
        },
        {
            "cell_type": "code",
            "source": [
                "-- ADVANCE TSQL TECHNIQUES continued\n",
                "\n",
                "--taking all rows from comments table except where text is python and inserting into comments source\n",
                "INSERT INTO CommentsSource (Id,PostId,Score,Text,CreationDate,UserDisplayName,UserId)\n",
                "\n",
                "    --specifying which rows to inserted using except set operator\n",
                "    SELECT Id,PostId,Score,Text,CreationDate,UserDisplayName,UserId\n",
                "\t    FROM Comments \n",
                "    EXCEPT \n",
                "\t(SELECT Id,PostId,Score,Text,CreationDate,UserDisplayName,UserId\n",
                "\t\tFROM Comments WHERE Text LIKE '%python%');\n",
                "\n",
                "--taking all rows from taget table except where text is python and inserting into comments target\n",
                "INSERT INTO CommentsTarget (Id,PostId,Score,Text,CreationDate,UserDisplayName,UserId)\n",
                "\n",
                "\tSELECT Id,PostId,Score,Text,CreationDate,UserDisplayName,UserId\n",
                "\t\tFROM Comments \n",
                "    EXCEPT \n",
                "\t(SELECT Id,PostId,Score,Text,CreationDate,UserDisplayName,UserId\n",
                "\t\tFROM Comments WHERE Text LIKE '%java%');"
            ],
            "metadata": {
                "azdata_cell_guid": "a12e7d8a-a786-46f6-80f6-5eab6014ada7"
            },
            "outputs": [],
            "execution_count": null
        },
        {
            "cell_type": "code",
            "source": [
                "-- ADVANCE TSQL TECHNIQUES continued\n",
                "--Merging\n",
                "\n",
                "MERGE CommentsTarget USING CommentsSource ON (CommentsTarget.Text = CommentsSource.Text)\n",
                "\n",
                "\t\tWHEN NOT MATCHED BY TARGET THEN\t\n",
                "\t\t\tINSERT (Id,PostId,Score,Text,CreationDate,UserDisplayName,UserId)\n",
                "\t\t\tVALUES (\n",
                "\t\t\t\tCommentsSource.Id,\n",
                "\t\t\t\tCommentsSource.PostId,\n",
                "\t\t\t\tCommentsSource.Score,\n",
                "\t\t\t\tCommentsSource.Text,\n",
                "\t\t\t\tCommentsSource.CreationDate,\n",
                "\t\t\t\tCommentsSource.UserDisplayName,\n",
                "\t\t\t\tCommentsSource.UserId\n",
                "\t\t\t)\n",
                "\t\t\n",
                "\t\tWHEN NOT MATCHED BY SOURCE THEN \t\t\n",
                "\t\t\tDELETE;"
            ],
            "metadata": {
                "azdata_cell_guid": "c7fdec6e-6fd9-488a-901e-d4d248418b73"
            },
            "outputs": [],
            "execution_count": null
        },
        {
            "cell_type": "code",
            "source": [
                "-- ADVANCE TSQL TECHNIQUES continued\n",
                "\n",
                "-- bulk insert using BCP utility that is used to copy data between SQL server instance and data file in user specified format\n",
                "\n",
                ""
            ],
            "metadata": {
                "azdata_cell_guid": "5a836996-a668-46d8-a0eb-a5277b231761"
            },
            "outputs": [],
            "execution_count": null
        }
    ]
}