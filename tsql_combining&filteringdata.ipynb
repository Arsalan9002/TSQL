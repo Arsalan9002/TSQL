{
    "metadata": {
        "kernelspec": {
            "name": "SQL",
            "display_name": "SQL",
            "language": "sql"
        },
        "language_info": {
            "name": "sql",
            "version": ""
        }
    },
    "nbformat_minor": 2,
    "nbformat": 4,
    "cells": [
        {
            "cell_type": "code",
            "source": [
                "use Northwind"
            ],
            "metadata": {
                "azdata_cell_guid": "62599a4b-60bf-45cc-8f2e-63323c208023"
            },
            "outputs": [],
            "execution_count": null
        },
        {
            "cell_type": "code",
            "source": [
                "SELECT FirstName,LastName,Title, BirthDate,HireDate FROM Northwind.dbo.Employees where Title='Sales Representative'"
            ],
            "metadata": {
                "azdata_cell_guid": "cd68961d-a8ba-401c-bd5f-c4dcb99df6cb"
            },
            "outputs": [],
            "execution_count": null
        },
        {
            "cell_type": "code",
            "source": [
                "--Concatenation\n",
                "select FirstName+LastName as FullName from Northwind.dbo.Employees\n",
                "--Adding separator\n",
                "select FirstName+' '+LastName as FullName from Northwind.dbo.Employees\n",
                "\n",
                "--using built-in Concat() function\n",
                "select CONCAT(FirstName,' ',LastName) as FullName from Northwind.dbo.Employees\n",
                "\n",
                "--GetDate is of type Date so we have to Convert it into varchar to perform concatenation\n",
                "select 'Today is:' + Convert(varchar, GETDATE(),1) as TodayDate\n",
                "select CONCAT('Today is:',Convert(varchar, GETDATE(),1)) as TodayDate"
            ],
            "metadata": {
                "azdata_cell_guid": "842bff44-8610-4648-9293-8820a9b8a23d",
                "tags": []
            },
            "outputs": [],
            "execution_count": null
        },
        {
            "cell_type": "code",
            "source": [
                "\n",
                "--CAST(expression as datatype[length]) #length is optional\n",
                "\n",
                "SELECT CAST(GETDATE() as varchar(11)) AS Today\n",
                "\n",
                "--CONVERT(datatype([length]),expression, style) \n",
                "-- CONVERT() has some styling capabilities, 3 arguements and 3rd param is optional \n",
                "select CONVERT(varchar(50), GETDATE()) AS Today\n",
                "select CONVERT(varchar(50), GETDATE(),101) AS Today\n",
                "\n",
                "--Incompatible conversions and handling them\n",
                "\n",
                "select CAST('hello world' as int) -- incompatible conversion\n",
                "select Convert(int,'hello world') -- incompatible conversion\n",
                "\n",
                "select TRY_CAST('hello world' as int)  --compatible conversion\n",
                "select TRY_CONVERT(int, 'HELLO WORLD') --compatible conversion"
            ],
            "metadata": {
                "azdata_cell_guid": "7fab7d73-c183-44e5-9cdf-a62eb5fe7642",
                "tags": []
            },
            "outputs": [],
            "execution_count": null
        },
        {
            "cell_type": "code",
            "source": [
                "--Datename() method returning output as formatted string  -- *** RETURN STRING *** --\n",
                "\n",
                "SELECT DATENAME(MONTH,'06/25/2020') as month\n",
                "SELECT DATENAME(YEAR,'06/25/2020') as year\n",
                "SELECT DATENAME(QUARTER,'06/25/2020') as quaster\n",
                "SELECT DATENAME(DAYOFYEAR,'06/25/2020') as dayofyear\n",
                "SELECT DATENAME(WEEKDAY,'06/25/2020') as weekday\n",
                "SELECT DATENAME(WEEK,'06/25/2020') as week -- week of the year\n",
                "SELECT DATENAME(ISO_WEEK,'06/25/2020')  as iso_week\n",
                "\n",
                "\n",
                "\n",
                "SELECT CONCAT('today is: ' , DATENAME(WEEKDAY, '06/25/2020')) as _output\n",
                "SELECT CONCAT('today is: ' , DATENAME(WEEKDAY, '06/25/2020'),' and year is: ',DATENAME(YEAR,'06/25/2020')) as _output"
            ],
            "metadata": {
                "azdata_cell_guid": "31d33f1f-fdd1-49f6-86a2-6b0b74782a6b",
                "tags": []
            },
            "outputs": [],
            "execution_count": null
        },
        {
            "cell_type": "code",
            "source": [
                "--Datepart() method returning output as formatted string    -- ** RETURN INTEGER ** --\n",
                "\n",
                "select DATEPART(MONTH,'06/25/2020') as month\n",
                "select DATEPART(year,'06/25/2020') as year\n",
                "select DATEPART(WEEKDAY,'06/25/2020') as weekday\n",
                "select DATEPART(QUARTER,'06/25/2020') as quarter\n",
                "select DATEPART(DAYOFYEAR,'06/25/2020') as dayofyear"
            ],
            "metadata": {
                "azdata_cell_guid": "efdf6b1a-27b8-4421-a223-48b05907a841",
                "tags": []
            },
            "outputs": [],
            "execution_count": null
        },
        {
            "cell_type": "code",
            "source": [
                "-- DATEPART VS DATENAME FUNCTION\n",
                "SELECT DATENAME(WEEKDAY,GETDATE()), DATENAME(MONTH,GETDATE()), DATENAME(QUARTER,GETDATE())\n",
                "SELECT DATEPART(WEEKDAY,GETDATE()), DATEPART(MONTH,GETDATE()), DATEPART(QUARTER,GETDATE())"
            ],
            "metadata": {
                "azdata_cell_guid": "50f2f217-7981-4f68-820f-befcc0d8b21a"
            },
            "outputs": [],
            "execution_count": null
        },
        {
            "cell_type": "code",
            "source": [
                "--DATEDIFF() AND DATEADD()\n",
                "\n",
                "--SELECT * FROM Northwind.dbo.Orders\n",
                "\n",
                "--SELECT DATEDIFF(D,OrderDate, ShippedDate ) FROM Northwind.dbo.Orders\n",
                "\n",
                "--SELECT DATEDIFF(DAY,OrderDate,ShippedDate)  FROM Northwind.dbo.Orders ORDER BY DATEDIFF(DAY,OrderDate,ShippedDate) \n",
                "\n",
                "/* ORDERS THAT HAVE BEEN ORDERED BUT NOT SHIPPED YET*/\n",
                "-- SELECT OrderDate,ShippedDate FROM Northwind.DBO.Orders WHERE DATEDIFF(DAY,OrderDate,ShippedDate) IS NULL\n",
                "\n",
                "SELECT OrderDate,ShippedDate FROM Northwind.DBO.Orders \n",
                "WHERE \n",
                "    DATEDIFF(DAY,OrderDate,ShippedDate) IS NULL or DATEDIFF(DAY,OrderDate,ShippedDate) >30  \n",
                "\n",
                ""
            ],
            "metadata": {
                "azdata_cell_guid": "bf21c01e-8789-4877-9542-fc44437f7488"
            },
            "outputs": [],
            "execution_count": null
        },
        {
            "cell_type": "code",
            "source": [
                "-- Notice the difference between concat() and concat_ws(). \n",
                "\n",
                "SELECT\n",
                "    --concat_ws requires passing separator only once but with Concat() we need to pass separator multiple times\n",
                "    --trim() is used for  removing leading and trailing space. there is ltrim() and rtrim() as well\n",
                "    TRIM(Concat(e.FirstName,' ', e.LastName,' ','test')) as FullNameUsingConcat, \n",
                "    TRIM(Concat_ws(' ',e.FirstName, e.LastName)) as FullNameUsingConcat_ws, \n",
                "\n",
                "    c.CompanyName , \n",
                "    c.ContactName, \n",
                "    CONVERT(varchar,o.OrderDate,101) as OrderDate,  --101 is style code that returns month/day/year -- 107**\n",
                "    CONVERT(varchar,o.ShippedDate,101) as ShippedDate,\n",
                "\n",
                "    --DATEDIFF return date type so we have to CAST it because there can be only one data type for one column\n",
                "    CASE WHEN DATEDIFF(DAY, o.OrderDate,o.ShippedDate) IS NOT NULL \n",
                "        THEN CAST(DATEDIFF(DAY, o.OrderDate,o.ShippedDate) AS varchar) ELSE 'Order Pending' END\n",
                "    as DaysToShsip \n",
                "\n",
                "from Northwind.DBO.Employees e\n",
                "\n",
                "JOIN Northwind.dbo.Orders o on e.EmployeeID = o.EmployeeID\n",
                "JOIN Northwind.dbo.Customers c on c.CustomerID = o.CustomerID\n",
                "\n",
                "where DATEDIFF(DAY,OrderDate,ShippedDate) IS NULL or DATEDIFF(DAY,OrderDate,ShippedDate) > 30  "
            ],
            "metadata": {
                "azdata_cell_guid": "bfa5aedb-c32c-4920-8a6c-26a55f0c281c"
            },
            "outputs": [],
            "execution_count": null
        },
        {
            "cell_type": "code",
            "source": [
                "--Inner join\n",
                "update Northwind.dbo.Orders set CustomerID='VINET' where OrderID=10248\n",
                "select \n",
                "    p.ProductName,\n",
                "    Convert(varchar,o.OrderDate,101) as OrderDate,\n",
                "    Convert(varchar,o.ShippedDate,101) as ShippedDate,\n",
                "    o.ShipAddress,\n",
                "    d.UnitPrice,\n",
                "    d.Quantity,\n",
                "    d.Discount ,\n",
                "    (d.UnitPrice * d.Quantity) as TotalPrice\n",
                "\n",
                "from Northwind.dbo.Orders o JOIN\n",
                "Northwind.dbo.[Order Details] d ON o.OrderID = d.OrderID\n",
                "JOIN Northwind.dbo.Products AS p ON p.ProductID = d.ProductID\n",
                "JOIN Northwind.dbo.Customers as c ON o.CustomerID = c.CustomerID\n",
                "where o.OrderID=10248\n",
                "\n",
                ""
            ],
            "metadata": {
                "azdata_cell_guid": "4b382aae-f258-4b0c-8582-cd6ddfca0cb6"
            },
            "outputs": [],
            "execution_count": null
        },
        {
            "cell_type": "code",
            "source": [
                "--LEFT JOIN RETURNS THE DATA FROM LEFT TABLE AND ANY MATCHING DATA FROM THE RIGHT TABLE ELSE NULL\n",
                "-- RIGHT JOIN IS EXACTLY OPPOSITE TO THE LEFT JOIN\n",
                "\n",
                "update Northwind.dbo.Orders set CustomerID=NULL where OrderID=10248\n",
                "select \n",
                "    p.ProductName,\n",
                "    Convert(varchar,o.OrderDate,101) as OrderDate,\n",
                "    Convert(varchar,o.ShippedDate,101) as ShippedDate,\n",
                "    o.ShipAddress,\n",
                "    d.UnitPrice,\n",
                "    d.Quantity,\n",
                "    d.Discount ,\n",
                "    (d.UnitPrice * d.Quantity) as TotalPrice,\n",
                "    c.*\n",
                "\n",
                "from Northwind.dbo.Orders o JOIN\n",
                "Northwind.dbo.[Order Details] d ON o.OrderID = d.OrderID\n",
                "JOIN Northwind.dbo.Products AS p ON p.ProductID = d.ProductID\n",
                "LEFT JOIN  Northwind.dbo.Customers as c ON o.CustomerID = c.CustomerID\n",
                "where o.OrderID=10248\n",
                ""
            ],
            "metadata": {
                "azdata_cell_guid": "035ed129-be3a-48c3-ac31-ec912ace1361"
            },
            "outputs": [],
            "execution_count": null
        },
        {
            "cell_type": "code",
            "source": [
                "--FULL JOIN returns all records from left and right table.\n",
                "select CompanyName, OrderID from Northwind.dbo.Customers c full join Northwind.dbo.Orders o on c.CustomerID = o.CustomerID order by OrderID"
            ],
            "metadata": {
                "azdata_cell_guid": "c82b33ad-2874-41c9-9254-38315a9d423a"
            },
            "outputs": [],
            "execution_count": null
        },
        {
            "cell_type": "code",
            "source": [
                "--SELF JOIN join 2 instances of the same table\n",
                "\n",
                "\n",
                "\n",
                "select \n",
                "    emp.EmployeeID,\n",
                "    TRIM(CONCAT_WS(' ', emp.FirstName,emp.LastName)) as Employee,\n",
                "    man.EmployeeID as ManagerID,\n",
                "\n",
                "    CASE WHEN man.EmployeeID IS NULL \n",
                "        THEN 'No Manager' ELSE TRIM(CONCAT_WS(' ', man.FirstName,man.LastName)) \n",
                "    END AS Manager\n",
                "\n",
                "from  Northwind.dbo.Employees as emp left join Northwind.dbo.Employees as man on man.ReportsTo = emp.EmployeeID "
            ],
            "metadata": {
                "azdata_cell_guid": "d59f3936-dba7-47f2-ae16-7285818c86ab"
            },
            "outputs": [],
            "execution_count": null
        },
        {
            "cell_type": "code",
            "source": [
                "--3 comparision possibilities\n",
                "select \n",
                "    o.OrderID,\n",
                "    c.CompanyName,\n",
                "    CONVERT(varchar,o.OrderDate,101) as OrderDate,\n",
                "    (CASE WHEN o.ShippedDate IS NOT NULL THEN CONVERT(varchar, o.ShippedDate,107) ELSE 'Pending' END) as Status,\n",
                "    FORMAT(SUM(d.Quantity * d.UnitPrice), 'N','en-us') as Total\n",
                "\n",
                "from Northwind.dbo.Orders o JOIN\n",
                "    Northwind.dbo.[Order Details] d ON o.OrderID = d.OrderID\n",
                "    JOIN Northwind.dbo.Customers as c ON o.CustomerID = c.CustomerID\n",
                "\n",
                "    where \n",
                "    DATEPART(YEAR,o.OrderDate) < 2015  --1 \n",
                "    --CONVERT(varchar,o.OrderDate,101) >= '07/20/2016' AND CONVERT(varchar,o.OrderDate,101)  <= '01/01/2017' --2\n",
                "    --CONVERT(varchar,o.OrderDate,101) BETWEEN '07/04/1996' AND '07/04/1997' --3\n",
                "GROUP BY   c.CompanyName,o.ShippedDate,o.OrderDate, o.OrderID"
            ],
            "metadata": {
                "azdata_cell_guid": "45d7d423-d909-4015-aca5-c374c4d1e747"
            },
            "outputs": [],
            "execution_count": null
        },
        {
            "cell_type": "code",
            "source": [
                "--NESTED SELECTS IN WHERE CONDITION \n",
                "\n",
                "-- we want product only for which Discontinued=1\n",
                "-- select * from Northwind.dbo.Products where Discontinued=1\n",
                "\n",
                "-- we copied the ID of all products with Discontinued=1 and put them in the IN clause \n",
                "--  select * from Northwind.dbo.Products where ProductID in (5,9,17,24,28,29,42,53)\n",
                "\n",
                "-- Now we lookup all those discontinued product ids in the order details table\n",
                "-- This is the query that we can now embbed in our where clause to get details about only discontinued products\n",
                "-- select * from Northwind.dbo.[Order Details] where ProductID in (select * from Northwind.dbo.Products where Discontinued=1)\n",
                "\n",
                "\n",
                " -- Notice the nested select statement in the where clause rather than we write product ids manually for those product having discontinued=1\n",
                "select \n",
                "    o.OrderID,\n",
                "    c.CompanyName,\n",
                "    CONVERT(varchar,o.OrderDate,101) as OrderDate,\n",
                "    (CASE WHEN o.ShippedDate IS NOT NULL THEN CONVERT(varchar, o.ShippedDate,107) ELSE 'Pending' END) as Status,\n",
                "    FORMAT(SUM(d.Quantity * d.UnitPrice), 'N','en-us') as Total\n",
                "\n",
                "from Northwind.dbo.Orders o JOIN\n",
                "    Northwind.dbo.[Order Details] d ON o.OrderID = d.OrderID\n",
                "    JOIN Northwind.dbo.Customers as c ON o.CustomerID = c.CustomerID\n",
                "\n",
                "    where \n",
                "\n",
                "        d.ProductID in (select ProductID from Northwind.dbo.Products where Discontinued=1)  --filtered only discontinued products\n",
                "        and  d.OrderID=10262  --FILTER ON order id 10262 for validation purposes\n",
                "\n",
                "    ---- filtering on 10262 gives us (10262\tRattlesnake Canyon Grocery\t07/22/1996\tJul 25, 1996\t204.00)\n",
                "    -- lets validate 204 below.\n",
                "\n",
                "GROUP BY   c.CompanyName,o.ShippedDate,o.OrderDate, o.OrderID"
            ],
            "metadata": {
                "azdata_cell_guid": "2afca7fb-e0db-4709-905f-859458f2090f"
            },
            "outputs": [],
            "execution_count": null
        },
        {
            "cell_type": "code",
            "source": [
                "--nested select in where CONT.    -- Validation\n",
                "\n",
                "select FORMAT(SUM(d.Quantity * d.UnitPrice), 'N','en-us') as Total from Northwind.dbo.[Order Details] as d join Northwind.dbo.Products as p on d.ProductID = p.ProductID \n",
                "where d.OrderID= 10262\n",
                "\n",
                "--10262\tRattlesnake Canyon Grocery\t07/22/1996\tJul 25, 1996\t624.80\n",
                "\n",
                "--DISCREPANCY FOUND and lets resolve it below."
            ],
            "metadata": {
                "azdata_cell_guid": "f0b757da-1631-435f-b010-6731726d1099"
            },
            "outputs": [],
            "execution_count": null
        },
        {
            "cell_type": "code",
            "source": [
                "--nested select in where CONT.    -- Investigation of discrepancy\n",
                "\n",
                "select * from Northwind.dbo.[Order Details] as d join Northwind.dbo.Products as p on d.ProductID = p.ProductID  where d.OrderID= 10262\n",
                "\n",
                "--Running it gives 3 rows out of which only one product is marked as discontiued\n",
                "-- for that one discontinued product multiplying unit price (17) by quantity (12) gives us 240\n",
                "\n",
                "-- So the problem is that our initial query in which we tried to limit products.\n",
                "-- it is not limited to the orders containing discontinued products but its limiting the products to be included"
            ],
            "metadata": {
                "azdata_cell_guid": "b65c855a-2fa1-4a76-8454-e360e8c8c2f9"
            },
            "outputs": [],
            "execution_count": null
        },
        {
            "cell_type": "code",
            "source": [
                "--nested select in where CONT.   -- CORRECT QUERY AFTER INVESTIGATION\n",
                "\n",
                "-- we need to filter on order id rather than product id \n",
                "select \n",
                "    o.OrderID,\n",
                "    c.CompanyName,\n",
                "    CONVERT(varchar,o.OrderDate,101) as OrderDate,\n",
                "    (CASE WHEN o.ShippedDate IS NOT NULL THEN CONVERT(varchar, o.ShippedDate,107) ELSE 'Pending' END) as Status,\n",
                "    FORMAT(SUM(d.Quantity * d.UnitPrice), 'N','en-us') as Total\n",
                "\n",
                "from Northwind.dbo.Orders o JOIN\n",
                "    Northwind.dbo.[Order Details] d ON o.OrderID = d.OrderID\n",
                "    JOIN Northwind.dbo.Customers as c ON o.CustomerID = c.CustomerID\n",
                "\n",
                "    -- used OrderId instead of product id because we need to filter on order ID\n",
                "    -- using order id would require us to join with products table and return only those order ids in which the product id is marked as discontinued\n",
                "    -- in the products table\n",
                "    where \n",
                "        d.OrderID  in (\n",
                "                select OrderID from Northwind.dbo.[Order Details] as od join Northwind.dbo.Products as p on od.ProductID = p.ProductID\n",
                "                where p.Discontinued=1)   -- this nested select is important to understand\n",
                "        and  d.OrderID=10262  --filter again on the same order id and we will see correct results this time i-e 624\n",
                "GROUP BY   c.CompanyName,o.ShippedDate,o.OrderDate, o.OrderID"
            ],
            "metadata": {
                "azdata_cell_guid": "fa64acff-7b8f-4bc8-b7c1-18c71bedfd3e"
            },
            "outputs": [],
            "execution_count": null
        },
        {
            "cell_type": "code",
            "source": [
                "--fetch and offset --OFFSET 0 ROWS FETCH NEXT 5 ROWS ONLY\n",
                "-- order by is required with offset and fetch\n",
                "\n",
                "DECLARE @offset  INT\n",
                "DECLARE @fetch INT\n",
                "\n",
                "SET @offset =5\n",
                "SET @fetch = 10\n",
                "\n",
                "SELECT * FROM Northwind.DBO.Products \n",
                "ORDER BY ProductID\n",
                "OFFSET @offset ROWS FETCH NEXT @fetch ROWS ONLY"
            ],
            "metadata": {
                "azdata_cell_guid": "f6c67ab0-367b-4d9e-99fb-bf0d01f5c313",
                "tags": []
            },
            "outputs": [],
            "execution_count": null
        },
        {
            "cell_type": "code",
            "source": [
                "--set operators\n",
                "-- union return unique records from both sets\n",
                "--union all returns all records (duplicates) from both sets\n",
                "--intersect return common records in both sets\n",
                "--except acts as difference (a except b means return all records of a which are not in b)"
            ],
            "metadata": {
                "azdata_cell_guid": "eaee895e-7b42-4401-acdd-3e0996aac700"
            },
            "outputs": [],
            "execution_count": null
        },
        {
            "cell_type": "code",
            "source": [
                "--common table expression\n",
                "\n",
                "--common table expression must first define its name and field names and then followed by a select query \n",
                "-- the select portion of the query used to popualate query must have same no of columns as of the columns defined for CTE\n",
                "--CTE fields will inherit the data types from the select command\n",
                "\n",
                "WITH employeesCTE (EmployeeId, FirstName, LastName)\n",
                "    as (select  EmployeeId, trim(FirstName), trim(LastName) from Northwind.dbo.Employees)\n",
                "\n",
                "SELECT * from employeesCTE"
            ],
            "metadata": {
                "azdata_cell_guid": "92d8a6e7-3731-4429-8bbf-5defb2fd397b"
            },
            "outputs": [],
            "execution_count": null
        },
        {
            "cell_type": "code",
            "source": [
                "--common table expression cont.\n",
                "-- region count and average sales per region group by employee id\n",
                "\n",
                "WITH regionCTE (EmployeeID, RegionCount, RegionAverageSales)\n",
                "as \n",
                "    (select \n",
                "        EmployeeID,\n",
                "        COUNT(o.ShipRegion) as RegionCount, \n",
                "        Sum(od.UnitPrice * od.Quantity) / COUNT(o.ShipRegion) RegionAverageSales\n",
                "    from Northwind.dbo.Orders o join Northwind.dbo.[Order Details] od on o.OrderID = od.OrderID GROUP by EmployeeID\n",
                "    )\n",
                "\n",
                "select * from regionCTE"
            ],
            "metadata": {
                "azdata_cell_guid": "f38c4f74-8130-46f3-8a44-74ac67d30ad7"
            },
            "outputs": [],
            "execution_count": null
        },
        {
            "cell_type": "code",
            "source": [
                "--common table expression cont.\n",
                "WITH totalAllCTE (EmployeeID,TotalAllSalesCount,TotalAllSales,AverageIndividualSalesAmount)\n",
                "as \n",
                "(\n",
                "    select \n",
                "        EmployeeId, \n",
                "        COUNT(distinct o.OrderID) TotalAllSalesCount,\n",
                "        SUM(od.UnitPrice * od.Quantity) as TotalAllSales,\n",
                "        SUM(od.UnitPrice * od.Quantity) / COUNT(distinct o.OrderID) as AverageIndividualSalesAmount\n",
                "        \n",
                "    from Northwind.dbo.Orders o join Northwind.dbo.[Order Details] od on o.OrderID = od.OrderID group by EmployeeID\n",
                ")\n",
                "\n",
                "select * from totalAllCTE"
            ],
            "metadata": {
                "azdata_cell_guid": "b25a9b36-8563-4705-91a3-9682a99805aa"
            },
            "outputs": [],
            "execution_count": null
        },
        {
            "cell_type": "code",
            "source": [
                "--common table expression cont.\n",
                "--Common table expressions are treated more as variables \n",
                "--all CTE Combined\n",
                "WITH employeesCTE (EmployeeId, FirstName, LastName)\n",
                "    as (select  EmployeeId, trim(FirstName), trim(LastName) from Northwind.dbo.Employees),\n",
                "\n",
                "regionCTE (EmployeeID, RegionCount, RegionAverageSales)\n",
                "as \n",
                "    (select \n",
                "        EmployeeID,\n",
                "        COUNT(o.ShipRegion) as RegionCount, \n",
                "        Sum(od.UnitPrice * od.Quantity) / COUNT(o.ShipRegion) RegionAverageSales\n",
                "    from Northwind.dbo.Orders o join Northwind.dbo.[Order Details] od on o.OrderID = od.OrderID GROUP by EmployeeID\n",
                "    ),\n",
                "\n",
                "totalAllCTE (EmployeeID,TotalAllSalesCount,TotalAllSales,AverageIndividualSalesAmount)\n",
                "as \n",
                "(\n",
                "    select \n",
                "        EmployeeId, \n",
                "        COUNT(distinct o.OrderID) TotalAllSalesCount,\n",
                "        SUM(od.UnitPrice * od.Quantity) as TotalAllSales,\n",
                "        SUM(od.UnitPrice * od.Quantity) / COUNT(distinct o.OrderID) as AverageIndividualSalesAmount\n",
                "        \n",
                "    from Northwind.dbo.Orders o join Northwind.dbo.[Order Details] od on o.OrderID = od.OrderID group by EmployeeID\n",
                ")\n",
                "\n",
                "select * from employeesCTE e left join regionCTE r on e.EmployeeId = r.EmployeeID left join totalAllCTE a on r.EmployeeID = a.EmployeeID"
            ],
            "metadata": {
                "azdata_cell_guid": "9a6fc003-f15c-4170-a139-921b09e26f01"
            },
            "outputs": [],
            "execution_count": null
        },
        {
            "cell_type": "code",
            "source": [
                "-- Temporary tables\n",
                "-- temporary table takes its field properties from the query used to populate the table. \n",
                "-- But all fields in the query must be assigned a name. \n",
                "\n",
                "\n",
                "select  EmployeeId, trim(FirstName) as FirstName, trim(LastName)  as LastName into #Employees from Northwind.dbo.Employees\n",
                "\n",
                "-- once created this temp tables stays in memory until we drop then. attempting their re-creation would result in an error\n",
                "\n",
                "\n",
                "\n",
                "select \n",
                "    EmployeeID,\n",
                "    COUNT(o.ShipRegion) as RegionCount, \n",
                "    Sum(od.UnitPrice * od.Quantity) / COUNT(o.ShipRegion) RegionAverageSales\n",
                "INTO #EmployeeRegionInfo\n",
                "from Northwind.dbo.Orders o join Northwind.dbo.[Order Details] od on o.OrderID = od.OrderID GROUP by EmployeeID\n",
                "\n",
                "\n",
                "\n",
                "select \n",
                "    EmployeeId, \n",
                "    COUNT(distinct o.OrderID) TotalAllSalesCount,\n",
                "    SUM(od.UnitPrice * od.Quantity) as TotalAllSales,\n",
                "    SUM(od.UnitPrice * od.Quantity) / COUNT(distinct o.OrderID) as AverageIndividualSalesAmount\n",
                "INTO #EmployeesAllSales  \n",
                "from Northwind.dbo.Orders o join Northwind.dbo.[Order Details] od on o.OrderID = od.OrderID group by EmployeeID\n",
                "\n",
                "\n",
                "select * from #Employees e left join #EmployeeRegionInfo r on e.EmployeeId = r.EmployeeID left join #EmployeesAllSales a on r.EmployeeID = a.EmployeeID\n",
                "\n",
                "\n",
                "\n",
                "Drop table #Employees\n",
                "drop TABLE #EmployeeRegionInfo\n",
                "drop table #EmployeesAllSales\n",
                "\n",
                "\n",
                "\n",
                "-- Validitiy of Common table expression & Temporary table\n",
                "--scope of temporary tables will exist until they are dropped \n",
                "--scope of CTE is dropped automatically once the sql statement is executed "
            ],
            "metadata": {
                "azdata_cell_guid": "0362ff27-e596-4da5-aa83-41801b077d4f"
            },
            "outputs": [],
            "execution_count": null
        },
        {
            "cell_type": "code",
            "source": [
                "-- fuller outer join behavior experiment\n",
                "\n",
                "with fact_tbl as (\n",
                "   select 2 as BussinessUnitKey,201907012 as datekey,34 as locationkey, 100 as Sales union all\n",
                "   select 2 as BussinessUnitKey,201907022 as datekey,34 as locationkey, 200 as Sales union all \n",
                "   select 2 as BussinessUnitKey,201907032 as datekey,34 as locationkey, 300 as Sales union all \n",
                "   select 2 as BussinessUnitKey,201907042 as datekey,34 as locationkey, 400 as Sales union all\n",
                "   select 2 as BussinessUnitKey,201907052 as datekey,34 as locationkey, 500 as Sales union ALL\n",
                "\n",
                "   select 2 as BussinessUnitKey,201908012 as datekey,39 as locationkey, 300 as Sales union ALL\n",
                "   select 2 as BussinessUnitKey,201908022 as datekey,39 as locationkey, 500 as Sales union ALL\n",
                "   select 2 as BussinessUnitKey,201908032 as datekey,39 as locationkey, 600 as Sales union ALL\n",
                "   select 2 as BussinessUnitKey,201908042 as datekey,39 as locationkey, 200 as Sales union ALL\n",
                "   select 2 as BussinessUnitKey,201908052 as datekey,39 as locationkey, 100 as Sales union ALL\n",
                "\n",
                "   select 3 as BussinessUnitKey,201807052 as datekey,39 as locationkey, 500 as Sales union all\n",
                "   select 3 as BussinessUnitKey,201807062 as datekey,39 as locationkey, 500 as Sales union all \n",
                "   select 3 as BussinessUnitKey,201807072 as datekey,39 as locationkey, 500 as Sales \n",
                "),\n",
                "\n",
                "dimdate as (\n",
                "    select 2 as BussinessUnitKey,201907012 as datekey,34 as locationkey union all\n",
                "    select 2 as BussinessUnitKey,201907022 as datekey,34 as locationkey union all \n",
                "    select 2 as BussinessUnitKey,201907032 as datekey,34 as locationkey union all \n",
                "    select 2 as BussinessUnitKey,201907042 as datekey,34 as locationkey union all\n",
                "    select 2 as BussinessUnitKey,201907052 as datekey,34 as locationkey union all\n",
                "    select 2 as BussinessUnitKey,201907062 as datekey,34 as locationkey union all\n",
                "    select 2 as BussinessUnitKey,201907072 as datekey,34 as locationkey union all\n",
                "\n",
                "    select 2 as BussinessUnitKey,201908012 as datekey,39 as locationkey union all\n",
                "    select 2 as BussinessUnitKey,201908022 as datekey,39 as locationkey union all \n",
                "    select 2 as BussinessUnitKey,201908032 as datekey,39 as locationkey union all \n",
                "    select 2 as BussinessUnitKey,201908042 as datekey,39 as locationkey union all\n",
                "    select 2 as BussinessUnitKey,201908052 as datekey,39 as locationkey union all\n",
                "    select 2 as BussinessUnitKey,201908062 as datekey,39 as locationkey union all\n",
                "    select 2 as BussinessUnitKey,201908072 as datekey,39 as locationkey union all\n",
                "\n",
                "    select 2 as BussinessUnitKey,201909012 as datekey,3 as locationkey union all\n",
                "    select 2 as BussinessUnitKey,201909012 as datekey,3 as locationkey\n",
                "),\n",
                "factstore as (\n",
                "    select 2 as BussinessUnitKey,201907012 as datekey,34 as locationkey, 200 as traffic union all\n",
                "    select 2 as BussinessUnitKey,201907012 as datekey,34 as locationkey, 200 as traffic union all\n",
                "    select 2 as BussinessUnitKey,201907022 as datekey,34 as locationkey, 300 as traffic union all\n",
                "    select 2 as BussinessUnitKey,201907022 as datekey,34 as locationkey, 200 as traffic union all\n",
                "    select 2 as BussinessUnitKey,201907032 as datekey,34 as locationkey, 100 as traffic union all\n",
                "    select 2 as BussinessUnitKey,201907042 as datekey,34 as locationkey, 100 as traffic union all\n",
                "    select 2 as BussinessUnitKey,201907042 as datekey,34 as locationkey, 300 as traffic union all\n",
                "    select 2 as BussinessUnitKey,201907052 as datekey,34 as locationkey, 200 as traffic union all\n",
                "    select 2 as BussinessUnitKey,201907062 as datekey,34 as locationkey, 300 as traffic union all\n",
                "    select 2 as BussinessUnitKey,201907062 as datekey,34 as locationkey, 300 as traffic union all\n",
                "    select 2 as BussinessUnitKey,201907072 as datekey,34 as locationkey, 200 as traffic union all \n",
                "\n",
                "    select 2 as BussinessUnitKey,201908012 as datekey,39 as locationkey, 200 as traffic union all\n",
                "    select 2 as BussinessUnitKey,201908012 as datekey,39 as locationkey, 200 as traffic union all\n",
                "    select 2 as BussinessUnitKey,201908022 as datekey,39 as locationkey, 300 as traffic union all\n",
                "    select 2 as BussinessUnitKey,201908022 as datekey,39 as locationkey, 200 as traffic union all\n",
                "    select 2 as BussinessUnitKey,201908032 as datekey,39 as locationkey, 100 as traffic union all\n",
                "    select 2 as BussinessUnitKey,201908042 as datekey,39 as locationkey, 100 as traffic union all\n",
                "    select 2 as BussinessUnitKey,201908042 as datekey,39 as locationkey, 300 as traffic union all\n",
                "    select 2 as BussinessUnitKey,201908052 as datekey,39 as locationkey, 200 as traffic union all\n",
                "    select 2 as BussinessUnitKey,201908062 as datekey,39 as locationkey, 300 as traffic union all\n",
                "    select 2 as BussinessUnitKey,201908062 as datekey,39 as locationkey, 300 as traffic union all\n",
                "    select 2 as BussinessUnitKey,201908072 as datekey,39 as locationkey, 200 as traffic union all\n",
                "\n",
                "    select 2 as BussinessUnitKey,201909012 as datekey,3 as locationkey, 100 as traffic union all\n",
                "    select 2 as BussinessUnitKey,201909012 as datekey,3 as locationkey, 100 as traffic\n",
                ")\n",
                "\n",
                "select \n",
                "    e.BussinessUnitKey,\n",
                "    f.locationkey,\n",
                "    e.datekey,\n",
                "    SUM(traffic) as traffic, Sales \n",
                "from (\n",
                "\n",
                "   select  \n",
                "        b.BussinessUnitKey,\n",
                "        b.datekey,\n",
                "        a.locationkey,\n",
                "        sum(Sales) as Sales \n",
                "        \n",
                "    from fact_tbl a full join dimdate b on \n",
                "\n",
                "        (a.BussinessUnitKey = b.BussinessUnitKey OR (a.BussinessUnitKey IS NULL OR b.BussinessUnitKey IS NULL)) and \n",
                "        (a.datekey = b.datekey OR (a.datekey IS NULL OR b.datekey IS NULL))\n",
                "\n",
                "    where (a.BussinessUnitKey =2 and a.datekey > = 201907012) OR (b.BussinessUnitKey =2 and b.datekey > = 201907012)\n",
                "    group by b.BussinessUnitKey,b.datekey, a.locationkey \n",
                "\n",
                ") as e\n",
                "\n",
                "left join  factstore f \n",
                "    on  f.BussinessUnitKey = e.BussinessUnitKey and f.datekey = e.datekey and \n",
                "    (f.locationkey = e.locationkey OR  (e.locationkey is null or f.locationkey is null))\n",
                "    group by \n",
                "        e.BussinessUnitKey,\n",
                "        f.locationkey,\n",
                "        e.datekey,\n",
                "        Sales \n",
                "    order by e.datekey"
            ],
            "metadata": {
                "azdata_cell_guid": "79ba73c8-6777-412a-96dd-a019de79e0b1",
                "tags": []
            },
            "outputs": [],
            "execution_count": null
        },
        {
            "cell_type": "code",
            "source": [
                ""
            ],
            "metadata": {
                "azdata_cell_guid": "a7738101-d139-4b8d-b688-c234d52b6262"
            },
            "outputs": [],
            "execution_count": null
        }
    ]
}